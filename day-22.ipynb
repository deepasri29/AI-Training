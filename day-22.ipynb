{
 "cells": [
  {
   "cell_type": "code",
   "execution_count": null,
   "id": "6b1ad3cf",
   "metadata": {},
   "outputs": [],
   "source": [
    "def find(x,y,path):\n",
    "    if x==2 and y==2:\n",
    "        print(path)\n",
    "        return\n",
    "    if x+1<=2 and grid[x+1][y]==0:\n",
    "        find(x+1,y,path+\"d\")\n",
    "    if y+1<=2 and grid[x][y+1]==0:\n",
    "        find(x,y+1,path+\"r\")\n",
    "grid=[[0,0,0],[0,1,0],[0,0,0]]\n",
    "\n",
    "find(0,0,\"\")        \n"
   ]
  },
  {
   "cell_type": "code",
   "execution_count": 8,
   "id": "d202959d",
   "metadata": {},
   "outputs": [
    {
     "name": "stdout",
     "output_type": "stream",
     "text": [
      "ddrr\n",
      "rrdd\n"
     ]
    }
   ],
   "source": [
    "\n",
    "def find(x, y, path):\n",
    "    if x == 2 and y == 2:\n",
    "        print(\"\".join(path))\n",
    "        return\n",
    "    if x + 1 <= 2 and grid[x + 1][y] == 0:\n",
    "        path.append(\"d\")\n",
    "        find(x + 1, y, path)\n",
    "        path.pop()\n",
    "    if y + 1 <= 2 and grid[x][y + 1] == 0:\n",
    "        path.append(\"r\")\n",
    "        find(x, y + 1, path)\n",
    "        path.pop()\n",
    "\n",
    "grid = [[0, 0, 0],\n",
    "        [0, 1, 0],\n",
    "        [0, 0, 0]]\n",
    "\n",
    "find(0, 0, [])"
   ]
  },
  {
   "cell_type": "code",
   "execution_count": null,
   "id": "3771a1cf",
   "metadata": {},
   "outputs": [],
   "source": [
    "#tree\n",
    "# root node - top node\n",
    "# child node - a node that come from parent \n",
    "# edge -is used to make connection to the node\n",
    "# leaf node- node doesn't have child node\n",
    "# height - the longest distance from root to leaf node\n",
    "#deepth - calculating level by level\n",
    "# descrete or decendence\n",
    "#  \n",
    "# the root node is a top node , if we want to get leaf node ,we want to traverse form the root to leaf node\n",
    "#\n",
    "#  binary tree\n",
    "# red black tree\n",
    "# binary search tree\n",
    "# avial tree\n",
    "# #"
   ]
  },
  {
   "cell_type": "code",
   "execution_count": 1,
   "id": "91e35de8",
   "metadata": {},
   "outputs": [
    {
     "name": "stdout",
     "output_type": "stream",
     "text": [
      "ceo\n",
      " cfo\n",
      " cto\n",
      "  qa\n",
      "  dev\n",
      " coo\n",
      "  ops\n"
     ]
    }
   ],
   "source": [
    "class treenode():\n",
    "    def __init__(self,val):\n",
    "        self.val=val\n",
    "        self.children=[]\n",
    "ceo=treenode(\"ceo\")\n",
    "cfo=treenode(\"cfo\")\n",
    "cto=treenode(\"cto\")\n",
    "coo=treenode(\"coo\")\n",
    "qa=treenode(\"qa\")\n",
    "dev=treenode(\"dev\")\n",
    "ops=treenode(\"ops\")\n",
    "\n",
    "ceo.children=[cfo,cto,coo]\n",
    "cto.children=[qa,dev]\n",
    "coo.children=[ops]\n",
    "\n",
    "def traversal(node,level=0):\n",
    "    print(\" \"*level+node.val)\n",
    "    for child in node.children:\n",
    "        traversal(child,level+1)\n",
    "traversal(ceo)   "
   ]
  },
  {
   "cell_type": "code",
   "execution_count": null,
   "id": "cee7ccc1",
   "metadata": {},
   "outputs": [],
   "source": [
    "# binary search\n",
    "\n",
    "# inorder(lpr)\n",
    "# preoroder(plr)\n",
    "# postorder(lrp)\n",
    "# #"
   ]
  },
  {
   "cell_type": "code",
   "execution_count": null,
   "id": "3cbe665f",
   "metadata": {},
   "outputs": [
    {
     "name": "stdout",
     "output_type": "stream",
     "text": [
      "      30\n",
      "           25\n",
      " 20\n",
      "           18\n",
      "      10\n",
      "           5\n",
      "Inorder Traversal\n",
      "5\n",
      "10\n",
      "18\n",
      "20\n",
      "25\n",
      "30\n",
      "\n",
      "\n",
      "Preorder Traversal\n",
      "20\n",
      "10\n",
      "5\n",
      "18\n",
      "30\n",
      "25\n",
      "\n",
      "\n",
      "Postorder Traversal\n",
      "5\n",
      "18\n",
      "10\n",
      "25\n",
      "30\n",
      "20\n",
      "\n",
      "\n"
     ]
    }
   ],
   "source": [
    "class Node():\n",
    "    def __init__(self, val):\n",
    "        self.val = val\n",
    "        self.left = None\n",
    "        self.right = None\n",
    "\n",
    "def insert(root, val):\n",
    "    if root is None:\n",
    "        return Node(val)\n",
    "    if val < root.val:\n",
    "        root.left = insert(root.left, val)\n",
    "    else:\n",
    "        root.right = insert(root.right, val)\n",
    "    return root\n",
    "\n",
    "def print_tree(node, level=0):\n",
    "    if node is not None:\n",
    "        print_tree(node.right, level + 1)\n",
    "        print(\"     \" * level, node.val)\n",
    "        print_tree(node.left, level + 1)\n",
    "\n",
    "def inorder(root):\n",
    "    if root is not None:\n",
    "        inorder(root.left)\n",
    "        print(root.val)\n",
    "        inorder(root.right)\n",
    "\n",
    "def preorder(root):\n",
    "    if root is not None:\n",
    "        print(root.val)\n",
    "        preorder(root.left)\n",
    "        preorder(root.right)\n",
    "\n",
    "def postorder(root):\n",
    "    if root is not None:\n",
    "        postorder(root.left)\n",
    "        postorder(root.right)        \n",
    "        print(root.val)\n",
    "\n",
    "val = [20, 10, 30, 25, 18, 5]\n",
    "root = None\n",
    "for v in val:\n",
    "    root = insert(root, v)\n",
    "\n",
    "print_tree(root)\n",
    "print(\"Inorder Traversal\")\n",
    "inorder(root)\n",
    "print(\"\\n\")\n",
    "\n",
    "print(\"Preorder Traversal\")\n",
    "preorder(root)\n",
    "print(\"\\n\")\n",
    "\n",
    "print(\"Postorder Traversal\")\n",
    "postorder(root)\n",
    "print(\"\\n\")\n"
   ]
  },
  {
   "cell_type": "code",
   "execution_count": null,
   "id": "a303f868",
   "metadata": {},
   "outputs": [
    {
     "ename": "NameError",
     "evalue": "name 'root' is not defined",
     "output_type": "error",
     "traceback": [
      "\u001b[31m---------------------------------------------------------------------------\u001b[39m",
      "\u001b[31mNameError\u001b[39m                                 Traceback (most recent call last)",
      "\u001b[36mCell\u001b[39m\u001b[36m \u001b[39m\u001b[32mIn[2]\u001b[39m\u001b[32m, line 5\u001b[39m\n\u001b[32m      3\u001b[39m         \u001b[38;5;28;01mreturn\u001b[39;00m -\u001b[32m1\u001b[39m\n\u001b[32m      4\u001b[39m     \u001b[38;5;28;01mreturn\u001b[39;00m \u001b[32m1\u001b[39m+\u001b[38;5;28mmax\u001b[39m(height(root.left),height(root.right))\n\u001b[32m----> \u001b[39m\u001b[32m5\u001b[39m \u001b[38;5;28mprint\u001b[39m(height(\u001b[43mroot\u001b[49m))\n",
      "\u001b[31mNameError\u001b[39m: name 'root' is not defined"
     ]
    }
   ],
   "source": [
    "class Person:\n",
    "    def __init__(self, name):  \n",
    "        self.name = name\n",
    "        self.left = None  \n",
    "        self.right = None  \n",
    "def level_order(root):\n",
    "    if not root:\n",
    "        return\n",
    "    queue = [root]\n",
    "    while queue:\n",
    "        current = queue.pop(0)\n",
    "        print(current.name)\n",
    "        if current.left:\n",
    "            queue.append(current.left)\n",
    "        if current.right:\n",
    "            queue.append(current.right)\n",
    "\n",
    "\n",
    "ceo = Person(\"CEO\")\n",
    "ceo.left = Person(\"Manager1\")\n",
    "ceo.right = Person(\"Manager2\")\n",
    "ceo.left.left = Person(\"Employee1\")\n",
    "ceo.right.right = Person(\"Employee2\")\n",
    "\n",
    "print(\"Organization Level Order:\")\n",
    "level_order(ceo)\n"
   ]
  },
  {
   "cell_type": "code",
   "execution_count": null,
   "id": "78681b7c",
   "metadata": {},
   "outputs": [
    {
     "name": "stdout",
     "output_type": "stream",
     "text": [
      "False\n"
     ]
    }
   ],
   "source": [
    "def height(root):\n",
    "    if not root:\n",
    "        return -1\n",
    "    return 1+max(height(root.left),height(root.right))\n",
    "print(height(root))"
   ]
  },
  {
   "cell_type": "code",
   "execution_count": null,
   "id": "724ded03",
   "metadata": {},
   "outputs": [
    {
     "name": "stdout",
     "output_type": "stream",
     "text": [
      "Organization Level Order:\n",
      "CEO\n",
      "Manager1\n",
      "Manager2\n",
      "Employee1\n",
      "Employee2\n"
     ]
    }
   ],
   "source": [
    "def is_balance(root):\n",
    "    if not root:\n",
    "        return 0\n",
    "    if not root.left and root.right:\n",
    "        return 1\n",
    "    return is_balance(root.left)==is_balance(root.right)\n",
    "print(is_balance(root))"
   ]
  },
  {
   "cell_type": "code",
   "execution_count": null,
   "id": "cf86553d",
   "metadata": {},
   "outputs": [
    {
     "name": "stdout",
     "output_type": "stream",
     "text": [
      "Tournament Match Order (In-order):\n",
      "Q1\n",
      "Semi1\n",
      "Q2\n",
      "Final\n",
      "Q3\n",
      "Semi2\n",
      "Q4\n"
     ]
    }
   ],
   "source": [
    "class Match:\n",
    "    def __init__(self, name):  \n",
    "        self.name = name\n",
    "        self.left = None\n",
    "        self.right = None\n",
    "\n",
    "def print_matches_inorder(node):\n",
    "    if node:\n",
    "        print_matches_inorder(node.left)\n",
    "        print(node.name)\n",
    "        print_matches_inorder(node.right)\n",
    "\n",
    "\n",
    "final = Match(\"Final\")\n",
    "final.left = Match(\"Semi1\")\n",
    "final.right = Match(\"Semi2\")\n",
    "final.left.left = Match(\"Q1\")\n",
    "final.left.right = Match(\"Q2\")\n",
    "final.right.left = Match(\"Q3\")\n",
    "final.right.right = Match(\"Q4\")\n",
    "\n",
    "print(\"Tournament Match Order (In-order):\")\n",
    "print_matches_inorder(final)\n"
   ]
  },
  {
   "cell_type": "code",
   "execution_count": 7,
   "id": "2281b0b6",
   "metadata": {},
   "outputs": [
    {
     "name": "stdout",
     "output_type": "stream",
     "text": [
      "Result of Expression: 8\n"
     ]
    }
   ],
   "source": [
    "class ExprNode:\n",
    "    def __init__(self, value):  \n",
    "        self.value = value\n",
    "        self.left = None\n",
    "        self.right = None\n",
    "\n",
    "def evaluate(root):\n",
    "    if root.value.isdigit():\n",
    "        return int(root.value)\n",
    "    left_val = evaluate(root.left)\n",
    "    right_val = evaluate(root.right)\n",
    "    if root.value == '+':\n",
    "        return left_val + right_val\n",
    "    elif root.value == '-':\n",
    "        return left_val - right_val\n",
    "    elif root.value == '*':\n",
    "        return left_val * right_val\n",
    "    elif root.value == '/':\n",
    "        return left_val / right_val\n",
    "\n",
    "root = ExprNode('*')\n",
    "root.left = ExprNode('+')\n",
    "root.right = ExprNode('-')\n",
    "root.left.left = ExprNode('3')\n",
    "root.left.right = ExprNode('5')\n",
    "root.right.left = ExprNode('2')\n",
    "root.right.right = ExprNode('1')\n",
    "\n",
    "print(\"Result of Expression:\", evaluate(root))\n"
   ]
  },
  {
   "cell_type": "code",
   "execution_count": null,
   "id": "df4d2063",
   "metadata": {},
   "outputs": [],
   "source": []
  },
  {
   "cell_type": "code",
   "execution_count": null,
   "id": "539350b0",
   "metadata": {},
   "outputs": [
    {
     "name": "stdout",
     "output_type": "stream",
     "text": [
      "1 2 3 4 5 6 \n",
      "\n",
      "1 2 4 5 3 6 \n",
      "\n",
      "4 2 5 1 3 6 \n",
      "\n",
      "4 5 2 6 3 1 "
     ]
    }
   ],
   "source": []
  },
  {
   "cell_type": "code",
   "execution_count": null,
   "id": "71e19f4c",
   "metadata": {},
   "outputs": [],
   "source": []
  },
  {
   "cell_type": "code",
   "execution_count": null,
   "id": "2e96cbe5",
   "metadata": {},
   "outputs": [],
   "source": [
    "graph={\n",
    "    'a':['b']\n",
    "}"
   ]
  },
  {
   "cell_type": "code",
   "execution_count": null,
   "id": "75d4e5de",
   "metadata": {},
   "outputs": [
    {
     "name": "stdout",
     "output_type": "stream",
     "text": [
      "a->b\n"
     ]
    }
   ],
   "source": []
  },
  {
   "cell_type": "code",
   "execution_count": null,
   "id": "acb4e83e",
   "metadata": {},
   "outputs": [],
   "source": []
  },
  {
   "cell_type": "code",
   "execution_count": null,
   "id": "61b63220",
   "metadata": {},
   "outputs": [
    {
     "name": "stdout",
     "output_type": "stream",
     "text": [
      "a\n",
      "b\n",
      "c\n",
      "d\n",
      "e\n"
     ]
    }
   ],
   "source": []
  },
  {
   "cell_type": "code",
   "execution_count": 1,
   "id": "8d5e95e1",
   "metadata": {},
   "outputs": [
    {
     "name": "stdout",
     "output_type": "stream",
     "text": [
      "A\n",
      "B\n",
      "D\n",
      "C\n",
      "E\n"
     ]
    }
   ],
   "source": [
    "def dfs(graph, start, visited=None):\n",
    "    if visited is None:\n",
    "        visited = set()\n",
    "    print(start)\n",
    "    visited.add(start)\n",
    "\n",
    "    for i in graph[start]:\n",
    "        if i not in visited:\n",
    "            dfs(graph, i, visited)  # recursion\n",
    "\n",
    "graph = {\n",
    "    'A': ['B', 'C'],\n",
    "    'B': ['D'],\n",
    "    'C': ['E'],\n",
    "    'D': [],\n",
    "    'E': []\n",
    "}\n",
    "\n",
    "dfs(graph, 'A')\n"
   ]
  },
  {
   "cell_type": "code",
   "execution_count": null,
   "id": "3eddb1d6",
   "metadata": {},
   "outputs": [
    {
     "name": "stdout",
     "output_type": "stream",
     "text": [
      "{'A': ['B', 'C'], 'B': ['A', 'D'], 'C': ['A'], 'D': ['B']}\n"
     ]
    }
   ],
   "source": []
  },
  {
   "cell_type": "code",
   "execution_count": null,
   "id": "c5cffc11",
   "metadata": {},
   "outputs": [
    {
     "name": "stdout",
     "output_type": "stream",
     "text": [
      "4\n"
     ]
    }
   ],
   "source": []
  },
  {
   "cell_type": "code",
   "execution_count": null,
   "id": "e8a1639d",
   "metadata": {},
   "outputs": [
    {
     "name": "stdout",
     "output_type": "stream",
     "text": [
      "True\n"
     ]
    }
   ],
   "source": [
    "def has_path(graph,src,dst,visited=None):\n",
    "    if visited is None:\n",
    "        visited=set()\n",
    "    if src==dst:\n",
    "        return True\n",
    "    visited.add(src)\n",
    "    for i in graph[src]:\n",
    "        if i not in visited:\n",
    "            if has_path(graph,i,dst,visited):\n",
    "                return True\n",
    "    return False\n",
    "graph = {\n",
    "    'A': ['B'],\n",
    "    'B': ['C'],\n",
    "    'C': [],\n",
    "    'D': []\n",
    "}\n",
    "print(has_path(graph,'A','C'))\n",
    "            "
   ]
  },
  {
   "cell_type": "code",
   "execution_count": null,
   "id": "25d53cc3",
   "metadata": {},
   "outputs": [
    {
     "name": "stdout",
     "output_type": "stream",
     "text": [
      "True\n"
     ]
    }
   ],
   "source": []
  }
 ],
 "metadata": {
  "kernelspec": {
   "display_name": "Python 3",
   "language": "python",
   "name": "python3"
  },
  "language_info": {
   "codemirror_mode": {
    "name": "ipython",
    "version": 3
   },
   "file_extension": ".py",
   "mimetype": "text/x-python",
   "name": "python",
   "nbconvert_exporter": "python",
   "pygments_lexer": "ipython3",
   "version": "3.11.9"
  }
 },
 "nbformat": 4,
 "nbformat_minor": 5
}
