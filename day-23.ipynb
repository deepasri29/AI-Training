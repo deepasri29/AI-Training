{
 "cells": [
  {
   "cell_type": "code",
   "execution_count": null,
   "id": "08e47b8c",
   "metadata": {},
   "outputs": [],
   "source": [
    "#BFS&DFS\n",
    "# breath first search- it going to access all node level by level \n",
    "# deepth first search - it going to access all node in depth first\n",
    "# \n",
    "# #"
   ]
  },
  {
   "cell_type": "code",
   "execution_count": null,
   "id": "59dbdf8f",
   "metadata": {},
   "outputs": [],
   "source": [
    "class node:\n",
    "    def __init__(s,val):\n",
    "        s.val=val\n",
    "        s.left=None\n",
    "        s.right=None\n",
    "root=node(1)\n",
    "root.left=node(2)\n",
    "root.right=node(3)\n",
    "root.left.left=node(4)\n",
    "root.left.right=node(5)\n",
    "root.right.right=node(6)  \n",
    "\n",
    "from collections import deque\n",
    "def bfs(root):\n",
    "    q=deque()\n",
    "    q.append(root)\n",
    "\n",
    "    if not q:\n",
    "        return\n",
    "    while q:\n",
    "        node=q.popleft()\n",
    "        print(node.val,end=\" \")\n",
    "\n",
    "        if node.left:\n",
    "            q.append(node.left)\n",
    "        if node.right:\n",
    "            q.append(node.right)\n",
    "            \n",
    "def dfs_pre(node):\n",
    "    if not node:\n",
    "        return\n",
    "    print(node.val,end=' ')    \n",
    "    dfs_pre(node.left)\n",
    "    dfs_pre(node.right)\n",
    "\n",
    "def dfs_in(node):\n",
    "    if not node:\n",
    "        return\n",
    "    dfs_in(node.left)\n",
    "    dfs_in(node.right)\n",
    "    print(node.val,end=' ') \n",
    "    \n",
    "\n",
    "def dfs_post(node):\n",
    "    if not node:\n",
    "        return\n",
    "    dfs_post(node.left)\n",
    "    print(node.val,end=' ')     \n",
    "    dfs_post(node.right)\n",
    "\n",
    "\n",
    "bfs(root) \n",
    "print(\"\\n\")\n",
    "dfs_pre(root)\n",
    "print(\"\\n\")\n",
    "dfs_post(root)\n",
    "print(\"\\n\")\n",
    "dfs_in(root)   \n"
   ]
  },
  {
   "cell_type": "code",
   "execution_count": null,
   "id": "427c9de6",
   "metadata": {},
   "outputs": [],
   "source": [
    "# Types of Graphs\n",
    "\"\"\"\n",
    "1. Directed: One-way roads\n",
    "2. Undirected: Two-way roads\n",
    "3. Weighted: Distance/Cost attached\n",
    "4. Unweighted\n",
    "5. Cyclic: Routes that loop back\n",
    "6. Acyclic: No loops\n",
    "\n",
    "# Graph Representations\n",
    "\n",
    "Adjacency List -> (Python dict of lists)\n",
    "Adjacency Matrix -> (for dense graphs)\n",
    "\"\"\""
   ]
  },
  {
   "cell_type": "code",
   "execution_count": 1,
   "id": "4af98fbb",
   "metadata": {},
   "outputs": [
    {
     "name": "stdout",
     "output_type": "stream",
     "text": [
      "a->b->d\n",
      "a->c->d\n"
     ]
    }
   ],
   "source": [
    "def all_path(graph,s,e,path=[]):\n",
    "    path=path+[s]\n",
    "    if s==e:\n",
    "        print(\"->\".join(path))\n",
    "        return\n",
    "    for i in graph[s]:\n",
    "        if i not in path:\n",
    "            all_path(graph,i,e,path)\n",
    "            \n",
    "graph={\n",
    "    'a':['b','c'],\n",
    "    'b':['d'],\n",
    "    'c':['d'],\n",
    "    'd':[]\n",
    "}      \n",
    "all_path(graph,'a','d')      "
   ]
  },
  {
   "cell_type": "code",
   "execution_count": null,
   "id": "570944d9",
   "metadata": {},
   "outputs": [],
   "source": [
    "from collections import deque\n",
    "def bfs(graph,start):\n",
    "    vist=set()\n",
    "    q=deque([start])\n",
    "    while q:\n",
    "        node=q.popleft()\n",
    "        if node not in vist:\n",
    "            print(node)\n",
    "            vist.add(node)\n",
    "            for i in graph[node]:\n",
    "                q.append(i)\n",
    "\n",
    "\n",
    "graph={\n",
    "    'a':['b','c'],\n",
    "    'b':['d'],\n",
    "    'c':['e'],\n",
    "    'd':[],\n",
    "    'e':[]\n",
    "}     \n",
    "bfs(graph,'a')           "
   ]
  },
  {
   "cell_type": "code",
   "execution_count": null,
   "id": "f6b382a9",
   "metadata": {},
   "outputs": [],
   "source": [
    "def add_edge(graph, u, v):\n",
    "    if u not in graph:\n",
    "        graph[u] = []\n",
    "    if v not in graph:\n",
    "        graph[v] = []\n",
    "    graph[u].append(v)\n",
    "    graph[v].append(u)  \n",
    "graph = {}\n",
    "add_edge(graph, 'A', 'B')\n",
    "add_edge(graph, 'A', 'C')\n",
    "add_edge(graph, 'B', 'D')\n",
    "\n",
    "print(graph)\n"
   ]
  },
  {
   "cell_type": "code",
   "execution_count": null,
   "id": "b1e6745c",
   "metadata": {},
   "outputs": [],
   "source": [
    "def count_nodes(graph, start, visited=None):\n",
    "    if visited is None:\n",
    "        visited = set()\n",
    "    visited.add(start)\n",
    "    count = 1\n",
    "    for i in graph[start]:\n",
    "        if i not in visited:\n",
    "            count += count_nodes(graph, i, visited)\n",
    "    return count\n",
    "\n",
    "\n",
    "graph = {\n",
    "    'A': ['B', 'C'],\n",
    "    'B': ['D'],\n",
    "    'C': [],\n",
    "    'D': []\n",
    "}\n",
    "\n",
    "print(count_nodes(graph, 'A'))  \n"
   ]
  },
  {
   "cell_type": "code",
   "execution_count": 4,
   "metadata": {},
   "outputs": [
    {
     "name": "stdout",
     "output_type": "stream",
     "text": [
      "True\n"
     ]
    }
   ],
   "source": [
    "# Cycle Detection Code\n",
    "def has_cycle(g):\n",
    "    v = set()\n",
    "    def dfs(n, p):\n",
    "        v.add(n)\n",
    "        for i in g[n]:\n",
    "            if i not in v:\n",
    "                if dfs(i, n):\n",
    "                    return True\n",
    "            elif i != p:\n",
    "                return True\n",
    "        return False\n",
    "    for node in g:\n",
    "        if node not in v:\n",
    "            if dfs(node, None):\n",
    "                return True\n",
    "    return False\n",
    "\n",
    "graph = {\n",
    "    'A': ['B'],\n",
    "    'B': ['C'],\n",
    "    'C': ['A'],\n",
    "    'D': []\n",
    "}\n",
    "print(has_cycle(graph))\n",
    " \n",
    "\n"
   ]
  },
  {
   "cell_type": "code",
   "execution_count": 2,
   "id": "059e9bd8",
   "metadata": {},
   "outputs": [
    {
     "name": "stdout",
     "output_type": "stream",
     "text": [
      "['Avatar']\n"
     ]
    }
   ],
   "source": [
    "def movie(user, friends):\n",
    "    a=[]\n",
    "    for i in friends:\n",
    "        if i not in user:\n",
    "            a.append(i)\n",
    "    return a          \n",
    "user = [\"Avengers\", \"Titanic\"]\n",
    "friends = [\"Titanic\",  \"Avatar\"]\n",
    "print(movie(user, friends))\n"
   ]
  },
  {
   "cell_type": "code",
   "execution_count": 1,
   "id": "02a6ce3e",
   "metadata": {},
   "outputs": [
    {
     "name": "stdout",
     "output_type": "stream",
     "text": [
      "\n",
      "1. Withdraw\n",
      "2. Deposit\n",
      "3. Exit\n",
      "Invalid choice\n",
      "Balance: 1000\n",
      "\n",
      "1. Withdraw\n",
      "2. Deposit\n",
      "3. Exit\n",
      "Balance: 1\n",
      "\n",
      "1. Withdraw\n",
      "2. Deposit\n",
      "3. Exit\n",
      "in valid\n",
      "Balance: 1\n",
      "\n",
      "1. Withdraw\n",
      "2. Deposit\n",
      "3. Exit\n"
     ]
    }
   ],
   "source": [
    "def atm():\n",
    "    balance = 1000\n",
    "    while True:\n",
    "        print(\"\\n1. Withdraw\\n2. Deposit\\n3. Exit\")\n",
    "        choice = input(\"Choose: \")\n",
    "        try:\n",
    "            if choice == \"1\":\n",
    "                amt = int(input(\"Enter amount: \"))\n",
    "                if amt > balance:\n",
    "                    raise ValueError(\"Not enough balance\")\n",
    "                balance -= amt\n",
    "            elif choice == \"2\":\n",
    "                amt = int(input(\"Enter amount: \"))\n",
    "                balance += amt\n",
    "            elif choice == \"3\":\n",
    "                break\n",
    "            else:\n",
    "                print(\"Invalid choice\")\n",
    "        except ValueError:\n",
    "            print(\"in valid\")\n",
    "        print(\"Balance:\", balance)\n",
    "\n",
    "atm()\n"
   ]
  },
  {
   "cell_type": "code",
   "execution_count": null,
   "id": "7c752205",
   "metadata": {},
   "outputs": [
    {
     "name": "stdout",
     "output_type": "stream",
     "text": [
      "Final path: ['up', 'up', 'down']\n"
     ]
    }
   ],
   "source": [
    "stack = []\n",
    "moves = [\"up\", \"up\", \"left\", \"undo\", \"down\"]\n",
    "\n",
    "for move in moves:\n",
    "    if move == \"undo\":\n",
    "        if stack:\n",
    "            stack.pop()\n",
    "    else:\n",
    "        stack.append(move)\n",
    "\n",
    "print(stack)\n"
   ]
  },
  {
   "cell_type": "code",
   "execution_count": 24,
   "id": "32ce4763",
   "metadata": {},
   "outputs": [
    {
     "name": "stdout",
     "output_type": "stream",
     "text": [
      "Red\n",
      "Green\n",
      "Yellow\n",
      "Red\n",
      "Green\n",
      "Yellow\n",
      "Red\n",
      "Green\n",
      "Yellow\n",
      "Red\n"
     ]
    }
   ],
   "source": [
    "from collections import deque\n",
    "\n",
    "lights = deque([\"Red\", \"Green\", \"Yellow\"])\n",
    "for i in range(10):\n",
    "    print(lights[0])\n",
    "    lights.rotate(-1)\n"
   ]
  },
  {
   "cell_type": "code",
   "execution_count": 3,
   "id": "3a4f0b65",
   "metadata": {},
   "outputs": [
    {
     "name": "stdout",
     "output_type": "stream",
     "text": [
      "True\n",
      "False\n"
     ]
    }
   ],
   "source": [
    "def is_spam(message):\n",
    "    spam_words = [\"free\", \"money\", \"win\"]\n",
    "    for word in message.split():\n",
    "        if word in spam_words:\n",
    "            return True\n",
    "    return False\n",
    "\n",
    "print(is_spam(\"You can win money now\"))\n",
    "print(is_spam(\"Hello friend\"))\n"
   ]
  },
  {
   "cell_type": "code",
   "execution_count": null,
   "id": "a44f1a39",
   "metadata": {},
   "outputs": [],
   "source": []
  },
  {
   "cell_type": "code",
   "execution_count": null,
   "id": "8291fcb3",
   "metadata": {},
   "outputs": [],
   "source": []
  },
  {
   "cell_type": "code",
   "execution_count": 25,
   "id": "83c5eba3",
   "metadata": {},
   "outputs": [
    {
     "name": "stdout",
     "output_type": "stream",
     "text": [
      "muthu - Avg: 50.0 - Pass\n"
     ]
    }
   ],
   "source": [
    "class Person:\n",
    "    def __init__(self, name):\n",
    "        self.name = name\n",
    "\n",
    "class Student(Person):\n",
    "    def __init__(self, name, marks):\n",
    "        super().__init__(name)\n",
    "        self.__marks = marks  \n",
    "\n",
    "    def report_card(self):\n",
    "        avg = sum(self.__marks) / len(self.__marks)\n",
    "        if avg >= 40:\n",
    "            status = \"Pass\"\n",
    "        else: \n",
    "            status=\"Fail\"\n",
    "        print(f\"{self.name} - Avg: {avg} - {status}\")\n",
    "\n",
    "\n",
    "s = Student(\"muthu\", [50, 60, 40])\n",
    "s.report_card()\n"
   ]
  }
 ],
 "metadata": {
  "kernelspec": {
   "display_name": "Python 3",
   "language": "python",
   "name": "python3"
  },
  "language_info": {
   "codemirror_mode": {
    "name": "ipython",
    "version": 3
   },
   "file_extension": ".py",
   "mimetype": "text/x-python",
   "name": "python",
   "nbconvert_exporter": "python",
   "pygments_lexer": "ipython3",
   "version": "3.11.9"
  }
 },
 "nbformat": 4,
 "nbformat_minor": 5
}
