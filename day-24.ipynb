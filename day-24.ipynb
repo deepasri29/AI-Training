{
 "cells": [
  {
   "cell_type": "code",
   "execution_count": null,
   "id": "a250b003",
   "metadata": {},
   "outputs": [],
   "source": [
    "#prims algorithm\n",
    "# starts with any node \n",
    "# pick the smallest element that connects with the edges\n",
    "# repeat the step agian untill all nodes are visted#"
   ]
  },
  {
   "cell_type": "code",
   "execution_count": null,
   "id": "509a443b",
   "metadata": {},
   "outputs": [
    {
     "name": "stdout",
     "output_type": "stream",
     "text": [
      "7\n"
     ]
    }
   ],
   "source": [
    "def prims(graph, start):\n",
    "    visited = set([start])\n",
    "    total = 0\n",
    "\n",
    "    while len(visited) < len(graph):\n",
    "        edge = None\n",
    "        min_w = float('inf')\n",
    "\n",
    "        for u in visited:\n",
    "            for v, w in graph[u]:\n",
    "                if v not in visited and w < min_w:\n",
    "                    min_w = w\n",
    "                    edge = (u, v)  \n",
    "\n",
    "        total += min_w\n",
    "        visited.add(edge[1])\n",
    "\n",
    "    return total\n",
    "\n",
    "\n",
    "graph = {\n",
    "    'a': [('b', 1), ('c', 3)],\n",
    "    'b': [('a', 1), ('c', 2), ('d', 4)],\n",
    "    'c': [('a', 3), ('b', 2), ('d', 5)],\n",
    "    'd': [('b', 4), ('c', 5)]\n",
    "}\n",
    "\n",
    "print(prims(graph, 'a'))  \n"
   ]
  },
  {
   "cell_type": "code",
   "execution_count": null,
   "id": "edadb6f0",
   "metadata": {},
   "outputs": [],
   "source": [
    "#start with any node \n",
    "# sort edges by cost \n",
    "# it don't from a loop or cycle \n",
    "# if it is from a loop or cycle then ignore the edge #"
   ]
  },
  {
   "cell_type": "code",
   "execution_count": null,
   "id": "d1f31795",
   "metadata": {},
   "outputs": [],
   "source": [
    "#krushkal algorithm\n",
    "def find(parent,x):\n",
    "    if parent[x]!=x:\n",
    "        parent[x]=find(parent,parent[x])\n",
    "    return parent[x]\n",
    "def krushkal(nodes,edges):\n",
    "    parent={n:n for n in nodes}\n",
    "\n",
    "    edges.sort(key=lambda x : x[2])\n",
    "    total_\n"
   ]
  },
  {
   "cell_type": "code",
   "execution_count": null,
   "id": "7d8b824b",
   "metadata": {},
   "outputs": [],
   "source": [
    "\"\"\"#Examples:\n",
    "\n",
    "Climbing stairs\n",
    "\n",
    "Fibonacci\n",
    "\n",
    "Coin change\n",
    "\n",
    "House robber\n",
    "\n",
    "1. Memoization — is a technique where results are stored to avoid doing the same computations many times. Recursive approach\n",
    "\n",
    "2. Tabulation — It follows an Iterative Approach (Bottom up approach)\n",
    "\n",
    "DP Building Blocks\n",
    "\n",
    "State: What changes at each step? → i, amount, etc.\n",
    "\n",
    "Decision: What options do I have? → climb 1 or 2 steps\n",
    "\n",
    "Base case: Where do I start from? \"\"\""
   ]
  },
  {
   "cell_type": "code",
   "execution_count": 3,
   "id": "6c7a19cb",
   "metadata": {},
   "outputs": [
    {
     "name": "stdout",
     "output_type": "stream",
     "text": [
      "8\n"
     ]
    }
   ],
   "source": [
    "#climbing a stairs\n",
    "# method 1: recursion(slow)\n",
    "\n",
    "def climb(n):\n",
    "    if n<=1:\n",
    "        return 1\n",
    "    return climb(n-1)+climb(n-2)\n",
    "print(climb(5))"
   ]
  },
  {
   "cell_type": "code",
   "execution_count": 5,
   "id": "4cf245fd",
   "metadata": {},
   "outputs": [
    {
     "name": "stdout",
     "output_type": "stream",
     "text": [
      "8\n"
     ]
    }
   ],
   "source": [
    "m={}\n",
    "def climb(n):\n",
    "    if n<=1:\n",
    "        return 1\n",
    "    if n in m:\n",
    "        return m[n]\n",
    "    m[n]=climb(n-1)+climb(n-2)\n",
    "    return m[n]\n",
    "print(climb(5))"
   ]
  },
  {
   "cell_type": "code",
   "execution_count": 6,
   "id": "39d1797f",
   "metadata": {},
   "outputs": [
    {
     "name": "stdout",
     "output_type": "stream",
     "text": [
      "8\n"
     ]
    }
   ],
   "source": [
    "# Method 3: Tabulation (bottom-up)\n",
    "def climb(n):\n",
    "    if n <= 2:\n",
    "        return n\n",
    "    dp = [0] * (n + 1)  # Create a table of size n+1\n",
    "    dp[0] = dp[1] = 1   # Fill base case\n",
    "    for i in range(2, n + 1):\n",
    "        dp[i] = dp[i - 1] + dp[i - 2]\n",
    "    return dp[n]\n",
    "\n",
    "print(climb(5))\n"
   ]
  },
  {
   "cell_type": "code",
   "execution_count": 9,
   "id": "17692d79",
   "metadata": {},
   "outputs": [
    {
     "data": {
      "text/plain": [
       "2"
      ]
     },
     "execution_count": 9,
     "metadata": {},
     "output_type": "execute_result"
    }
   ],
   "source": [
    "#Recursive Approach\n",
    "def mincoins(coins,amount):\n",
    "    if amount==0:\n",
    "        return 0\n",
    "    res=float('inf')\n",
    "    for coin in coins:\n",
    "        if coin in coins:\n",
    "            if amount-coin>=0:\n",
    "                res=min(res,mincoins(coins,amount-coin)+1)\n",
    "    return res\n",
    "mincoins([1,3,4],6)"
   ]
  },
  {
   "cell_type": "code",
   "execution_count": 13,
   "id": "e4dd4e06",
   "metadata": {},
   "outputs": [
    {
     "name": "stdout",
     "output_type": "stream",
     "text": [
      "2\n"
     ]
    }
   ],
   "source": [
    "def mincoins(coins, amount):\n",
    "    if amount == 0:\n",
    "        return 0\n",
    "    \n",
    "    res = None\n",
    "    for coin in coins:\n",
    "        if amount - coin >= 0:  \n",
    "            ans = mincoins(coins, amount - coin)\n",
    "            if ans is not None:  \n",
    "                if res is None or ans + 1 < res:\n",
    "                    res = ans + 1\n",
    "    return res\n",
    "\n",
    "print(mincoins([1, 3, 4], 6))  "
   ]
  },
  {
   "cell_type": "code",
   "execution_count": null,
   "id": "9c76b135",
   "metadata": {},
   "outputs": [
    {
     "name": "stdout",
     "output_type": "stream",
     "text": [
      "2\n"
     ]
    }
   ],
   "source": [
    "# Tabulation - Bottom up approach\n",
    "def minCoins(coins, amount):\n",
    "    dp = [float('inf')] * (amount + 1)  # [0] * [n+1]\n",
    "    dp[0] = 0\n",
    "\n",
    "    for x in range(1, amount + 1):\n",
    "        for coin in coins:\n",
    "            if x - coin >= 0:\n",
    "                dp[x] = min(dp[x], dp[x - coin] + 1)\n",
    "\n",
    "    if dp[amount] != float('inf'):\n",
    "        return dp[amount]\n",
    "    return -1  # Base case\n",
    "\n",
    "print(minCoins([1, 3, 4], 6))\n"
   ]
  },
  {
   "cell_type": "code",
   "execution_count": 15,
   "id": "594874f1",
   "metadata": {},
   "outputs": [
    {
     "data": {
      "text/plain": [
       "7"
      ]
     },
     "execution_count": 15,
     "metadata": {},
     "output_type": "execute_result"
    }
   ],
   "source": [
    "#Native recursive approach\n",
    "def rob(nums,i=0):\n",
    "    if i>=len(nums):\n",
    "        return 0\n",
    "    return max(rob(nums,i+1),nums[i]+rob(nums,i+2))\n",
    "rob([2,1,4,5])"
   ]
  },
  {
   "cell_type": "code",
   "execution_count": 16,
   "id": "166e4dc6",
   "metadata": {},
   "outputs": [
    {
     "name": "stdout",
     "output_type": "stream",
     "text": [
      "7\n"
     ]
    }
   ],
   "source": [
    "# You’re robbing houses on a street. Each house has some money.\n",
    "# If you rob two next to each other, police catch you.\n",
    "# You need maximum total money without robbing two side-by-side houses.\n",
    "\n",
    "# Naive recursive approach\n",
    "def rob(nums, i=0):\n",
    "    if i >= len(nums):\n",
    "        return 0  # base case\n",
    "    return max(rob(nums, i + 1), nums[i] + rob(nums, i + 2))\n",
    "\n",
    "print(rob([2, 1, 4, 5]))\n",
    "# [i=0 -> 2] skip that 0th position take now = 1\n",
    "# rob(0) = 2 then skip next to go to rob(3) = 5 => 2 + 5 = 7\n",
    "# max(1, 7)\n"
   ]
  }
 ],
 "metadata": {
  "kernelspec": {
   "display_name": "Python 3",
   "language": "python",
   "name": "python3"
  },
  "language_info": {
   "codemirror_mode": {
    "name": "ipython",
    "version": 3
   },
   "file_extension": ".py",
   "mimetype": "text/x-python",
   "name": "python",
   "nbconvert_exporter": "python",
   "pygments_lexer": "ipython3",
   "version": "3.11.9"
  }
 },
 "nbformat": 4,
 "nbformat_minor": 5
}
