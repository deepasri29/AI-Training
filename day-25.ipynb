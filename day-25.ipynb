{
 "cells": [
  {
   "cell_type": "code",
   "execution_count": null,
   "id": "de84a1ec",
   "metadata": {},
   "outputs": [],
   "source": [
    "\"\"\"\n",
    "first solve the smallest problem (eg : floor 0, flor 1).\n",
    "store answer in list/table\n",
    "build bigger answer from small answer.\n",
    "\n",
    "this is tabulation (bottom-up)\n",
    "fib(5)-fib(4)+fib(3)\n",
    "\n",
    "dp[i]=?\n",
    "\"\"\""
   ]
  },
  {
   "cell_type": "code",
   "execution_count": null,
   "id": "e3ffb593",
   "metadata": {},
   "outputs": [],
   "source": [
    "\"\"\"In 1D DP , the state depended on a single index (like dp[i] for climbing stairs)\n",
    "In 2D DP, the state depends on two indices – typically i (row) and j (column).\n",
    "\n",
    "dp[i][j] = some computed value for cell (i, j) in a table/grid.\n",
    "Example:\n",
    "    For counting paths = number of ways to reach (i, j)\n",
    "    For min cost path = minimum sum to reach (i, j)\n",
    "\n",
    "# We have a robot starting at (0, 0), can move right or down.\n",
    "\"\"\"\n",
    "'''Transition formula\n",
    "dp[i][j] = dp[i-1][j] + dp[i][j-1]\n",
    "dp[i-1][j]: ways from above\n",
    "dp[i][j-1]: ways from left\n",
    "'''\n"
   ]
  },
  {
   "cell_type": "code",
   "execution_count": 4,
   "id": "44b91f8f",
   "metadata": {},
   "outputs": [
    {
     "name": "stdout",
     "output_type": "stream",
     "text": [
      "DDRR\n",
      "DRDR\n",
      "DRRD\n",
      "RDDR\n",
      "RDRD\n",
      "RRDD\n"
     ]
    }
   ],
   "source": [
    "def find(x, y, path):  # R = Right , D = Down\n",
    "    if x == 2 and y == 2:\n",
    "        print(path)  # X = down, Y = right\n",
    "        return\n",
    "\n",
    "    if x + 1 <= 2 and grid[x + 1][y] == 0:\n",
    "        find(x + 1, y, path + \"D\")\n",
    "    if y + 1 <= 2 and grid[x][y + 1] == 0:\n",
    "        find(x, y + 1, path + \"R\")\n",
    "\n",
    "\n",
    "grid = [\n",
    "    [0, 0, 0],\n",
    "    [0, 0, 0],\n",
    "    [0, 0, 0]\n",
    "]\n",
    "\n",
    "find(0, 0, \"\")\n"
   ]
  },
  {
   "cell_type": "code",
   "execution_count": null,
   "id": "1c6848c8",
   "metadata": {},
   "outputs": [
    {
     "ename": "TypeError",
     "evalue": "'builtin_function_or_method' object is not subscriptable",
     "output_type": "error",
     "traceback": [
      "\u001b[31m---------------------------------------------------------------------------\u001b[39m",
      "\u001b[31mTypeError\u001b[39m                                 Traceback (most recent call last)",
      "\u001b[36mCell\u001b[39m\u001b[36m \u001b[39m\u001b[32mIn[13]\u001b[39m\u001b[32m, line 26\u001b[39m\n\u001b[32m     24\u001b[39m \u001b[38;5;66;03m# to you this function\u001b[39;00m\n\u001b[32m     25\u001b[39m memo={}\n\u001b[32m---> \u001b[39m\u001b[32m26\u001b[39m all_paths=\u001b[43mfind\u001b[49m\u001b[43m(\u001b[49m\u001b[32;43m0\u001b[39;49m\u001b[43m,\u001b[49m\u001b[32;43m0\u001b[39;49m\u001b[43m,\u001b[49m\u001b[33;43m\"\u001b[39;49m\u001b[33;43m\"\u001b[39;49m\u001b[43m,\u001b[49m\u001b[43mmemo\u001b[49m\u001b[43m)\u001b[49m\n\u001b[32m     27\u001b[39m \u001b[38;5;28mprint\u001b[39m(all_paths)\n",
      "\u001b[36mCell\u001b[39m\u001b[36m \u001b[39m\u001b[32mIn[13]\u001b[39m\u001b[32m, line 10\u001b[39m, in \u001b[36mfind\u001b[39m\u001b[34m(x, y, path, memo, c)\u001b[39m\n\u001b[32m      8\u001b[39m \u001b[38;5;66;03m# move down\u001b[39;00m\n\u001b[32m      9\u001b[39m \u001b[38;5;28;01mif\u001b[39;00m x+\u001b[32m1\u001b[39m <=\u001b[32m2\u001b[39m \u001b[38;5;129;01mand\u001b[39;00m grid[x+\u001b[32m1\u001b[39m][y]==\u001b[32m0\u001b[39m:\n\u001b[32m---> \u001b[39m\u001b[32m10\u001b[39m     paths+=\u001b[43mfind\u001b[49m\u001b[43m(\u001b[49m\u001b[43mx\u001b[49m\u001b[43m+\u001b[49m\u001b[32;43m1\u001b[39;49m\u001b[43m,\u001b[49m\u001b[43my\u001b[49m\u001b[43m,\u001b[49m\u001b[43mpath\u001b[49m\u001b[43m+\u001b[49m\u001b[33;43m\"\u001b[39;49m\u001b[33;43mD\u001b[39;49m\u001b[33;43m\"\u001b[39;49m\u001b[43m,\u001b[49m\u001b[43mmemo\u001b[49m\u001b[43m)\u001b[49m\n\u001b[32m     11\u001b[39m \u001b[38;5;66;03m# move right\u001b[39;00m\n\u001b[32m     12\u001b[39m \u001b[38;5;28;01mif\u001b[39;00m y+\u001b[32m1\u001b[39m <=\u001b[32m2\u001b[39m \u001b[38;5;129;01mand\u001b[39;00m grid[x][y+\u001b[32m1\u001b[39m]==\u001b[32m0\u001b[39m:\n",
      "\u001b[36mCell\u001b[39m\u001b[36m \u001b[39m\u001b[32mIn[13]\u001b[39m\u001b[32m, line 10\u001b[39m, in \u001b[36mfind\u001b[39m\u001b[34m(x, y, path, memo, c)\u001b[39m\n\u001b[32m      8\u001b[39m \u001b[38;5;66;03m# move down\u001b[39;00m\n\u001b[32m      9\u001b[39m \u001b[38;5;28;01mif\u001b[39;00m x+\u001b[32m1\u001b[39m <=\u001b[32m2\u001b[39m \u001b[38;5;129;01mand\u001b[39;00m grid[x+\u001b[32m1\u001b[39m][y]==\u001b[32m0\u001b[39m:\n\u001b[32m---> \u001b[39m\u001b[32m10\u001b[39m     paths+=\u001b[43mfind\u001b[49m\u001b[43m(\u001b[49m\u001b[43mx\u001b[49m\u001b[43m+\u001b[49m\u001b[32;43m1\u001b[39;49m\u001b[43m,\u001b[49m\u001b[43my\u001b[49m\u001b[43m,\u001b[49m\u001b[43mpath\u001b[49m\u001b[43m+\u001b[49m\u001b[33;43m\"\u001b[39;49m\u001b[33;43mD\u001b[39;49m\u001b[33;43m\"\u001b[39;49m\u001b[43m,\u001b[49m\u001b[43mmemo\u001b[49m\u001b[43m)\u001b[49m\n\u001b[32m     11\u001b[39m \u001b[38;5;66;03m# move right\u001b[39;00m\n\u001b[32m     12\u001b[39m \u001b[38;5;28;01mif\u001b[39;00m y+\u001b[32m1\u001b[39m <=\u001b[32m2\u001b[39m \u001b[38;5;129;01mand\u001b[39;00m grid[x][y+\u001b[32m1\u001b[39m]==\u001b[32m0\u001b[39m:\n",
      "\u001b[36mCell\u001b[39m\u001b[36m \u001b[39m\u001b[32mIn[13]\u001b[39m\u001b[32m, line 13\u001b[39m, in \u001b[36mfind\u001b[39m\u001b[34m(x, y, path, memo, c)\u001b[39m\n\u001b[32m     11\u001b[39m \u001b[38;5;66;03m# move right\u001b[39;00m\n\u001b[32m     12\u001b[39m \u001b[38;5;28;01mif\u001b[39;00m y+\u001b[32m1\u001b[39m <=\u001b[32m2\u001b[39m \u001b[38;5;129;01mand\u001b[39;00m grid[x][y+\u001b[32m1\u001b[39m]==\u001b[32m0\u001b[39m:\n\u001b[32m---> \u001b[39m\u001b[32m13\u001b[39m     paths+=\u001b[43mfind\u001b[49m\u001b[43m(\u001b[49m\u001b[43mx\u001b[49m\u001b[43m,\u001b[49m\u001b[43my\u001b[49m\u001b[43m+\u001b[49m\u001b[32;43m1\u001b[39;49m\u001b[43m,\u001b[49m\u001b[43mpath\u001b[49m\u001b[43m+\u001b[49m\u001b[33;43m\"\u001b[39;49m\u001b[33;43mR\u001b[39;49m\u001b[33;43m\"\u001b[39;49m\u001b[43m,\u001b[49m\u001b[43mmemo\u001b[49m\u001b[43m)\u001b[49m\n\u001b[32m     15\u001b[39m memo[(x,y,path)]=paths\n\u001b[32m     16\u001b[39m c+=\u001b[32m1\u001b[39m\n",
      "\u001b[36mCell\u001b[39m\u001b[36m \u001b[39m\u001b[32mIn[13]\u001b[39m\u001b[32m, line 13\u001b[39m, in \u001b[36mfind\u001b[39m\u001b[34m(x, y, path, memo, c)\u001b[39m\n\u001b[32m     11\u001b[39m \u001b[38;5;66;03m# move right\u001b[39;00m\n\u001b[32m     12\u001b[39m \u001b[38;5;28;01mif\u001b[39;00m y+\u001b[32m1\u001b[39m <=\u001b[32m2\u001b[39m \u001b[38;5;129;01mand\u001b[39;00m grid[x][y+\u001b[32m1\u001b[39m]==\u001b[32m0\u001b[39m:\n\u001b[32m---> \u001b[39m\u001b[32m13\u001b[39m     paths+=\u001b[43mfind\u001b[49m\u001b[43m(\u001b[49m\u001b[43mx\u001b[49m\u001b[43m,\u001b[49m\u001b[43my\u001b[49m\u001b[43m+\u001b[49m\u001b[32;43m1\u001b[39;49m\u001b[43m,\u001b[49m\u001b[43mpath\u001b[49m\u001b[43m+\u001b[49m\u001b[33;43m\"\u001b[39;49m\u001b[33;43mR\u001b[39;49m\u001b[33;43m\"\u001b[39;49m\u001b[43m,\u001b[49m\u001b[43mmemo\u001b[49m\u001b[43m)\u001b[49m\n\u001b[32m     15\u001b[39m memo[(x,y,path)]=paths\n\u001b[32m     16\u001b[39m c+=\u001b[32m1\u001b[39m\n",
      "\u001b[36mCell\u001b[39m\u001b[36m \u001b[39m\u001b[32mIn[13]\u001b[39m\u001b[32m, line 4\u001b[39m, in \u001b[36mfind\u001b[39m\u001b[34m(x, y, path, memo, c)\u001b[39m\n\u001b[32m      1\u001b[39m \u001b[38;5;28;01mdef\u001b[39;00m\u001b[38;5;250m \u001b[39m\u001b[34mfind\u001b[39m(x,y,path,memo,c=\u001b[32m0\u001b[39m):\n\u001b[32m      3\u001b[39m     \u001b[38;5;28;01mif\u001b[39;00m x==\u001b[32m2\u001b[39m \u001b[38;5;129;01mand\u001b[39;00m y==\u001b[32m2\u001b[39m:\n\u001b[32m----> \u001b[39m\u001b[32m4\u001b[39m         \u001b[38;5;28;01mreturn\u001b[39;00m \u001b[38;5;28;43mlen\u001b[39;49m\u001b[43m[\u001b[49m\u001b[43mpath\u001b[49m\u001b[43m]\u001b[49m\n\u001b[32m      5\u001b[39m     \u001b[38;5;28;01mif\u001b[39;00m (x,y,path) \u001b[38;5;129;01min\u001b[39;00m memo:\n\u001b[32m      6\u001b[39m         \u001b[38;5;28;01mreturn\u001b[39;00m memo[(x,y,path)]\n",
      "\u001b[31mTypeError\u001b[39m: 'builtin_function_or_method' object is not subscriptable"
     ]
    }
   ],
   "source": [
    "def find(x,y,path,memo,c=0):\n",
    "    \n",
    "    if x==2 and y==2:\n",
    "        return len[path]\n",
    "    if (x,y,path) in memo:\n",
    "        return memo[(x,y,path)]\n",
    "    paths=[]\n",
    "    # move down\n",
    "    if x+1 <=2 and grid[x+1][y]==0:\n",
    "        paths+=find(x+1,y,path+\"D\",memo)\n",
    "    # move right\n",
    "    if y+1 <=2 and grid[x][y+1]==0:\n",
    "        paths+=find(x,y+1,path+\"R\",memo)\n",
    "\n",
    "    memo[(x,y,path)]=paths\n",
    "    c+=1\n",
    "    return paths\n",
    "grid=[\n",
    "    [0,0,0],\n",
    "    [0,1,0],\n",
    "    [0,0,0]\n",
    "]\n",
    "\n",
    "# to you this function\n",
    "memo={}\n",
    "all_paths=find(0,0,\"\",memo)\n",
    "print(all_paths)"
   ]
  },
  {
   "cell_type": "code",
   "execution_count": null,
   "id": "9dc4357b",
   "metadata": {},
   "outputs": [],
   "source": []
  },
  {
   "cell_type": "code",
   "execution_count": 42,
   "id": "367376fa",
   "metadata": {},
   "outputs": [
    {
     "name": "stdout",
     "output_type": "stream",
     "text": [
      "DDRR\n",
      "DRDR\n",
      "DRRD\n",
      "RDDR\n",
      "RDRD\n",
      "RRDD\n"
     ]
    },
    {
     "data": {
      "text/plain": [
       "6"
      ]
     },
     "execution_count": 42,
     "metadata": {},
     "output_type": "execute_result"
    }
   ],
   "source": [
    "def find(x, y, path):  # R = Right , D = Down\n",
    "    if x == 2 and y == 2:\n",
    "        print(path)  # X = down, Y = right\n",
    "        return 1\n",
    "    count=0\n",
    "    if x + 1 <= 2 and grid[x + 1][y] != 0:\n",
    "        count+=find(x + 1, y, path + \"D\")\n",
    "    if y + 1 <= 2 and grid[x][y + 1] != 0:\n",
    "        count+=find(x, y + 1, path + \"R\")\n",
    "    return count\n",
    "\n",
    "\n",
    "grid = [\n",
    "    [2, 1, 1],\n",
    "    [1, 5, 1],\n",
    "    [1, 4, 1]\n",
    "]\n",
    "\n",
    "find(0, 0, \"\")\n"
   ]
  },
  {
   "cell_type": "code",
   "execution_count": 19,
   "id": "c58a6a5a",
   "metadata": {},
   "outputs": [
    {
     "name": "stdout",
     "output_type": "stream",
     "text": [
      "['DDRR', 'DRDR', 'DRRD', 'RDDR', 'RDRD', 'RRDD']\n"
     ]
    }
   ],
   "source": [
    "def find(x,y,path,memo):\n",
    "    if x==2 and y==2:\n",
    "        return [path]\n",
    "    if (x,y,path) in memo:\n",
    "        return memo[(x,y,path)]\n",
    "    paths=[]\n",
    "    # move down\n",
    "    if x+1 <=2 and grid[x+1][y]>=0:\n",
    "        paths+=find(x+1,y,path+\"D\",memo)\n",
    "    # move right\n",
    "    if y+1 <=2 and grid[x][y+1]>=0:\n",
    "        paths+=find(x,y+1,path+\"R\",memo)\n",
    "\n",
    "    memo[(x,y,path)]=paths\n",
    "    \n",
    "    return paths\n",
    "grid=[\n",
    "    [0,0,0],\n",
    "    [0,0,0],\n",
    "    [0,0,0]\n",
    "]\n",
    "\n",
    "# to you this function\n",
    "memo={}\n",
    "all_paths=find(0,0,\"\",memo)\n",
    "print(all_paths)"
   ]
  },
  {
   "cell_type": "code",
   "execution_count": 35,
   "id": "3fb4467a",
   "metadata": {},
   "outputs": [
    {
     "name": "stdout",
     "output_type": "stream",
     "text": [
      "4\n"
     ]
    }
   ],
   "source": [
    "# Longest substring without repeat\n",
    "# Input - \"abcabcbb\"\n",
    "\n",
    "def l_s(s):\n",
    "    n = len(s)\n",
    "    m_l = 0\n",
    "    for i in range(n):\n",
    "        seen = set()\n",
    "        for j in range(i, n):\n",
    "            if s[j] in seen:\n",
    "                break\n",
    "            seen.add(s[j])\n",
    "            m_l = max(m_l, j - i + 1)\n",
    "    return m_l\n",
    "\n",
    "print(l_s(\"abcabcdadb\"))\n"
   ]
  },
  {
   "cell_type": "code",
   "execution_count": 43,
   "id": "e377492d",
   "metadata": {},
   "outputs": [
    {
     "name": "stdout",
     "output_type": "stream",
     "text": [
      "3\n"
     ]
    }
   ],
   "source": [
    "def longest_unique_substring(s):\n",
    "    last_seen = {}  # store last position of each char\n",
    "    dp = [0] * len(s)  # dp[i] = longest unique substring ending at i\n",
    "    max_len = 0\n",
    "\n",
    "    for i in range(len(s)):\n",
    "        if s[i] in last_seen:\n",
    "            distance = i - last_seen[s[i]]\n",
    "            dp[i] = min(dp[i - 1] + 1, distance)\n",
    "        else:\n",
    "            dp[i] = dp[i - 1] + 1 if i > 0 else 1\n",
    "\n",
    "        last_seen[s[i]] = i\n",
    "        max_len = max(max_len, dp[i])\n",
    "\n",
    "    return max_len\n",
    "\n",
    "print(longest_unique_substring(\"abcabcbb\"))\n"
   ]
  },
  {
   "cell_type": "code",
   "execution_count": 44,
   "id": "130be342",
   "metadata": {},
   "outputs": [
    {
     "name": "stdout",
     "output_type": "stream",
     "text": [
      "Minimum Path Sum: 6\n"
     ]
    }
   ],
   "source": [
    "# Finding the minimum path sum\n",
    "def find(x, y, cost):\n",
    "    if x == 2 and y == 2:\n",
    "        return cost + grid[x][y]  # Add final cell value\n",
    "\n",
    "    costs = []\n",
    "\n",
    "    if x + 1 <= 2:  # Move Down\n",
    "        costs.append(find(x + 1, y, cost + grid[x][y]))\n",
    "    if y + 1 <= 2:  # Move Right\n",
    "        costs.append(find(x, y + 1, cost + grid[x][y]))\n",
    "\n",
    "    return min(costs)\n",
    "\n",
    "grid = [\n",
    "    [2, 1, 1],\n",
    "    [1, 5, 1],\n",
    "    [1, 4, 1]\n",
    "]\n",
    "\n",
    "print(\"Minimum Path Sum:\", find(0, 0, 0))\n"
   ]
  },
  {
   "cell_type": "code",
   "execution_count": 48,
   "id": "a31abc3d",
   "metadata": {},
   "outputs": [
    {
     "name": "stdout",
     "output_type": "stream",
     "text": [
      "Converted CSV to TSV successfully!\n"
     ]
    }
   ],
   "source": [
    "import csv\n",
    "\n",
    "# Step 1: Read the CSV file\n",
    "with open(r\"C:\\Users\\visha\\OneDrive\\Desktop\\file handling\\excell.csv\", \"r\") as csvfile:\n",
    "    reader = csv.reader(csvfile)\n",
    "    rows = list(reader)  # Read all rows into a list\n",
    "\n",
    "# Step 2: Write those rows into a TSV file\n",
    "with open(\"data_convered.tsv\", \"w\", newline=\"\") as tsvfile:\n",
    "    writer = csv.writer(tsvfile, delimiter=\"\\t\")  # delimiter is tab\n",
    "    writer.writerows(rows)\n",
    "\n",
    "print(\"Converted CSV to TSV successfully!\")\n"
   ]
  },
  {
   "cell_type": "code",
   "execution_count": 50,
   "id": "08b371da",
   "metadata": {},
   "outputs": [
    {
     "ename": "KeyError",
     "evalue": "'gender'",
     "output_type": "error",
     "traceback": [
      "\u001b[31m---------------------------------------------------------------------------\u001b[39m",
      "\u001b[31mKeyError\u001b[39m                                  Traceback (most recent call last)",
      "\u001b[36mCell\u001b[39m\u001b[36m \u001b[39m\u001b[32mIn[50]\u001b[39m\u001b[32m, line 7\u001b[39m\n\u001b[32m      4\u001b[39m reader = csv.DictReader(f)\n\u001b[32m      5\u001b[39m \u001b[38;5;28;01mfor\u001b[39;00m row \u001b[38;5;129;01min\u001b[39;00m reader:\n\u001b[32m      6\u001b[39m     \u001b[38;5;66;03m# row is an OrderedDict: column_name -> value\u001b[39;00m\n\u001b[32m----> \u001b[39m\u001b[32m7\u001b[39m     \u001b[38;5;28mprint\u001b[39m(\u001b[43mrow\u001b[49m\u001b[43m[\u001b[49m\u001b[33;43m'\u001b[39;49m\u001b[33;43mgender\u001b[39;49m\u001b[33;43m'\u001b[39;49m\u001b[43m]\u001b[49m, row[\u001b[33m'\u001b[39m\u001b[33mincome\u001b[39m\u001b[33m'\u001b[39m])\n",
      "\u001b[31mKeyError\u001b[39m: 'gender'"
     ]
    }
   ],
   "source": [
    "import csv\n",
    "\n",
    "with open(r'C:\\Users\\visha\\OneDrive\\Desktop\\file handling\\excell.csv',encoding='utf-8', newline='') as f:\n",
    "    reader = csv.DictReader(f)\n",
    "    for row in reader:\n",
    "        # row is an OrderedDict: column_name -> value\n",
    "        print(row['gender'], row['income'])\n"
   ]
  },
  {
   "cell_type": "code",
   "execution_count": 56,
   "id": "ba9b79a9",
   "metadata": {},
   "outputs": [
    {
     "name": "stdout",
     "output_type": "stream",
     "text": [
      "successfully saved\n"
     ]
    }
   ],
   "source": [
    "import csv\n",
    "\n",
    "with open(r'C:\\Users\\visha\\OneDrive\\Desktop\\file handling\\excell.csv') as infile:\n",
    "    reader = csv.reader(infile)\n",
    "    rows = list(reader)\n",
    "\n",
    "# Clean headers: trim spaces and lowercase\n",
    "headers = [h.strip().lower() for h in rows[0]]\n",
    "\n",
    "# Clean data rows: trim spaces from each value\n",
    "cleaned_rows = [headers]\n",
    "for row in rows[1:]:\n",
    "    cleaned_row = [val.strip() for val in row]\n",
    "    cleaned_rows.append(cleaned_row)\n",
    "\n",
    "# Write cleaned CSV\n",
    "with open(\"cleaned_data.csv\", \"w\", newline='') as outfile:\n",
    "    writer = csv.writer(outfile)\n",
    "    writer.writerows(cleaned_rows)\n",
    "print(\"successfully saved\")    \n"
   ]
  },
  {
   "cell_type": "code",
   "execution_count": 57,
   "id": "fc4046f3",
   "metadata": {},
   "outputs": [
    {
     "data": {
      "text/html": [
       "<div>\n",
       "<style scoped>\n",
       "    .dataframe tbody tr th:only-of-type {\n",
       "        vertical-align: middle;\n",
       "    }\n",
       "\n",
       "    .dataframe tbody tr th {\n",
       "        vertical-align: top;\n",
       "    }\n",
       "\n",
       "    .dataframe thead th {\n",
       "        text-align: right;\n",
       "    }\n",
       "</style>\n",
       "<table border=\"1\" class=\"dataframe\">\n",
       "  <thead>\n",
       "    <tr style=\"text-align: right;\">\n",
       "      <th></th>\n",
       "      <th>gender</th>\n",
       "      <th>income</th>\n",
       "    </tr>\n",
       "  </thead>\n",
       "  <tbody>\n",
       "    <tr>\n",
       "      <th>0</th>\n",
       "      <td>F</td>\n",
       "      <td>51298.49</td>\n",
       "    </tr>\n",
       "    <tr>\n",
       "      <th>1</th>\n",
       "      <td>F</td>\n",
       "      <td>41106.76</td>\n",
       "    </tr>\n",
       "    <tr>\n",
       "      <th>2</th>\n",
       "      <td>M</td>\n",
       "      <td>39799.93</td>\n",
       "    </tr>\n",
       "    <tr>\n",
       "      <th>3</th>\n",
       "      <td>M</td>\n",
       "      <td>46048.91</td>\n",
       "    </tr>\n",
       "    <tr>\n",
       "      <th>4</th>\n",
       "      <td>F</td>\n",
       "      <td>45790.18</td>\n",
       "    </tr>\n",
       "    <tr>\n",
       "      <th>5</th>\n",
       "      <td>M</td>\n",
       "      <td>40940.36</td>\n",
       "    </tr>\n",
       "    <tr>\n",
       "      <th>6</th>\n",
       "      <td>M</td>\n",
       "      <td>41761.21</td>\n",
       "    </tr>\n",
       "    <tr>\n",
       "      <th>7</th>\n",
       "      <td>M</td>\n",
       "      <td>66451.94</td>\n",
       "    </tr>\n",
       "    <tr>\n",
       "      <th>8</th>\n",
       "      <td>F</td>\n",
       "      <td>81696.68</td>\n",
       "    </tr>\n",
       "  </tbody>\n",
       "</table>\n",
       "</div>"
      ],
      "text/plain": [
       "  gender    income\n",
       "0      F  51298.49\n",
       "1      F  41106.76\n",
       "2      M  39799.93\n",
       "3      M  46048.91\n",
       "4      F  45790.18\n",
       "5      M  40940.36\n",
       "6      M  41761.21\n",
       "7      M  66451.94\n",
       "8      F  81696.68"
      ]
     },
     "execution_count": 57,
     "metadata": {},
     "output_type": "execute_result"
    }
   ],
   "source": [
    "import pandas as pd\n",
    "data=pd.read_csv(r\"C:\\Users\\visha\\OneDrive\\Desktop\\file handling\\excell.csv\")\n",
    "data"
   ]
  },
  {
   "cell_type": "code",
   "execution_count": 67,
   "id": "7563611f",
   "metadata": {},
   "outputs": [
    {
     "data": {
      "text/html": [
       "<div>\n",
       "<style scoped>\n",
       "    .dataframe tbody tr th:only-of-type {\n",
       "        vertical-align: middle;\n",
       "    }\n",
       "\n",
       "    .dataframe tbody tr th {\n",
       "        vertical-align: top;\n",
       "    }\n",
       "\n",
       "    .dataframe thead th {\n",
       "        text-align: right;\n",
       "    }\n",
       "</style>\n",
       "<table border=\"1\" class=\"dataframe\">\n",
       "  <thead>\n",
       "    <tr style=\"text-align: right;\">\n",
       "      <th></th>\n",
       "      <th>gender</th>\n",
       "      <th>income</th>\n",
       "    </tr>\n",
       "  </thead>\n",
       "  <tbody>\n",
       "    <tr>\n",
       "      <th>0</th>\n",
       "      <td>F</td>\n",
       "      <td>51298.49</td>\n",
       "    </tr>\n",
       "    <tr>\n",
       "      <th>1</th>\n",
       "      <td>F</td>\n",
       "      <td>41106.76</td>\n",
       "    </tr>\n",
       "    <tr>\n",
       "      <th>2</th>\n",
       "      <td>M</td>\n",
       "      <td>39799.93</td>\n",
       "    </tr>\n",
       "    <tr>\n",
       "      <th>3</th>\n",
       "      <td>M</td>\n",
       "      <td>46048.91</td>\n",
       "    </tr>\n",
       "    <tr>\n",
       "      <th>4</th>\n",
       "      <td>F</td>\n",
       "      <td>45790.18</td>\n",
       "    </tr>\n",
       "  </tbody>\n",
       "</table>\n",
       "</div>"
      ],
      "text/plain": [
       "  gender    income\n",
       "0      F  51298.49\n",
       "1      F  41106.76\n",
       "2      M  39799.93\n",
       "3      M  46048.91\n",
       "4      F  45790.18"
      ]
     },
     "execution_count": 67,
     "metadata": {},
     "output_type": "execute_result"
    }
   ],
   "source": [
    "data.head()"
   ]
  },
  {
   "cell_type": "code",
   "execution_count": 66,
   "id": "6295d5b4",
   "metadata": {},
   "outputs": [
    {
     "data": {
      "text/html": [
       "<div>\n",
       "<style scoped>\n",
       "    .dataframe tbody tr th:only-of-type {\n",
       "        vertical-align: middle;\n",
       "    }\n",
       "\n",
       "    .dataframe tbody tr th {\n",
       "        vertical-align: top;\n",
       "    }\n",
       "\n",
       "    .dataframe thead th {\n",
       "        text-align: right;\n",
       "    }\n",
       "</style>\n",
       "<table border=\"1\" class=\"dataframe\">\n",
       "  <thead>\n",
       "    <tr style=\"text-align: right;\">\n",
       "      <th></th>\n",
       "      <th>gender</th>\n",
       "      <th>income</th>\n",
       "    </tr>\n",
       "  </thead>\n",
       "  <tbody>\n",
       "    <tr>\n",
       "      <th>4</th>\n",
       "      <td>F</td>\n",
       "      <td>45790.18</td>\n",
       "    </tr>\n",
       "    <tr>\n",
       "      <th>5</th>\n",
       "      <td>M</td>\n",
       "      <td>40940.36</td>\n",
       "    </tr>\n",
       "    <tr>\n",
       "      <th>6</th>\n",
       "      <td>M</td>\n",
       "      <td>41761.21</td>\n",
       "    </tr>\n",
       "    <tr>\n",
       "      <th>7</th>\n",
       "      <td>M</td>\n",
       "      <td>66451.94</td>\n",
       "    </tr>\n",
       "    <tr>\n",
       "      <th>8</th>\n",
       "      <td>F</td>\n",
       "      <td>81696.68</td>\n",
       "    </tr>\n",
       "  </tbody>\n",
       "</table>\n",
       "</div>"
      ],
      "text/plain": [
       "  gender    income\n",
       "4      F  45790.18\n",
       "5      M  40940.36\n",
       "6      M  41761.21\n",
       "7      M  66451.94\n",
       "8      F  81696.68"
      ]
     },
     "execution_count": 66,
     "metadata": {},
     "output_type": "execute_result"
    }
   ],
   "source": [
    "data.tail()"
   ]
  },
  {
   "cell_type": "code",
   "execution_count": 64,
   "id": "38f898ad",
   "metadata": {},
   "outputs": [
    {
     "data": {
      "text/html": [
       "<div>\n",
       "<style scoped>\n",
       "    .dataframe tbody tr th:only-of-type {\n",
       "        vertical-align: middle;\n",
       "    }\n",
       "\n",
       "    .dataframe tbody tr th {\n",
       "        vertical-align: top;\n",
       "    }\n",
       "\n",
       "    .dataframe thead th {\n",
       "        text-align: right;\n",
       "    }\n",
       "</style>\n",
       "<table border=\"1\" class=\"dataframe\">\n",
       "  <thead>\n",
       "    <tr style=\"text-align: right;\">\n",
       "      <th></th>\n",
       "      <th>income</th>\n",
       "    </tr>\n",
       "  </thead>\n",
       "  <tbody>\n",
       "    <tr>\n",
       "      <th>count</th>\n",
       "      <td>9.000000</td>\n",
       "    </tr>\n",
       "    <tr>\n",
       "      <th>mean</th>\n",
       "      <td>50543.828889</td>\n",
       "    </tr>\n",
       "    <tr>\n",
       "      <th>std</th>\n",
       "      <td>14321.268101</td>\n",
       "    </tr>\n",
       "    <tr>\n",
       "      <th>min</th>\n",
       "      <td>39799.930000</td>\n",
       "    </tr>\n",
       "    <tr>\n",
       "      <th>25%</th>\n",
       "      <td>41106.760000</td>\n",
       "    </tr>\n",
       "    <tr>\n",
       "      <th>50%</th>\n",
       "      <td>45790.180000</td>\n",
       "    </tr>\n",
       "    <tr>\n",
       "      <th>75%</th>\n",
       "      <td>51298.490000</td>\n",
       "    </tr>\n",
       "    <tr>\n",
       "      <th>max</th>\n",
       "      <td>81696.680000</td>\n",
       "    </tr>\n",
       "  </tbody>\n",
       "</table>\n",
       "</div>"
      ],
      "text/plain": [
       "             income\n",
       "count      9.000000\n",
       "mean   50543.828889\n",
       "std    14321.268101\n",
       "min    39799.930000\n",
       "25%    41106.760000\n",
       "50%    45790.180000\n",
       "75%    51298.490000\n",
       "max    81696.680000"
      ]
     },
     "execution_count": 64,
     "metadata": {},
     "output_type": "execute_result"
    }
   ],
   "source": [
    "data.describe()"
   ]
  },
  {
   "cell_type": "code",
   "execution_count": 61,
   "id": "32e0e41d",
   "metadata": {},
   "outputs": [
    {
     "data": {
      "text/plain": [
       "gender    0\n",
       "income    0\n",
       "dtype: int64"
      ]
     },
     "execution_count": 61,
     "metadata": {},
     "output_type": "execute_result"
    }
   ],
   "source": [
    "data.isnull().sum()"
   ]
  },
  {
   "cell_type": "code",
   "execution_count": 63,
   "id": "493afe7f",
   "metadata": {},
   "outputs": [
    {
     "data": {
      "text/html": [
       "<div>\n",
       "<style scoped>\n",
       "    .dataframe tbody tr th:only-of-type {\n",
       "        vertical-align: middle;\n",
       "    }\n",
       "\n",
       "    .dataframe tbody tr th {\n",
       "        vertical-align: top;\n",
       "    }\n",
       "\n",
       "    .dataframe thead th {\n",
       "        text-align: right;\n",
       "    }\n",
       "</style>\n",
       "<table border=\"1\" class=\"dataframe\">\n",
       "  <thead>\n",
       "    <tr style=\"text-align: right;\">\n",
       "      <th></th>\n",
       "      <th>gender</th>\n",
       "      <th>income</th>\n",
       "    </tr>\n",
       "  </thead>\n",
       "  <tbody>\n",
       "    <tr>\n",
       "      <th>0</th>\n",
       "      <td>F</td>\n",
       "      <td>51298.49</td>\n",
       "    </tr>\n",
       "    <tr>\n",
       "      <th>1</th>\n",
       "      <td>F</td>\n",
       "      <td>41106.76</td>\n",
       "    </tr>\n",
       "    <tr>\n",
       "      <th>2</th>\n",
       "      <td>M</td>\n",
       "      <td>39799.93</td>\n",
       "    </tr>\n",
       "    <tr>\n",
       "      <th>3</th>\n",
       "      <td>M</td>\n",
       "      <td>46048.91</td>\n",
       "    </tr>\n",
       "    <tr>\n",
       "      <th>4</th>\n",
       "      <td>F</td>\n",
       "      <td>45790.18</td>\n",
       "    </tr>\n",
       "    <tr>\n",
       "      <th>5</th>\n",
       "      <td>M</td>\n",
       "      <td>40940.36</td>\n",
       "    </tr>\n",
       "    <tr>\n",
       "      <th>6</th>\n",
       "      <td>M</td>\n",
       "      <td>41761.21</td>\n",
       "    </tr>\n",
       "    <tr>\n",
       "      <th>7</th>\n",
       "      <td>M</td>\n",
       "      <td>66451.94</td>\n",
       "    </tr>\n",
       "    <tr>\n",
       "      <th>8</th>\n",
       "      <td>F</td>\n",
       "      <td>81696.68</td>\n",
       "    </tr>\n",
       "  </tbody>\n",
       "</table>\n",
       "</div>"
      ],
      "text/plain": [
       "  gender    income\n",
       "0      F  51298.49\n",
       "1      F  41106.76\n",
       "2      M  39799.93\n",
       "3      M  46048.91\n",
       "4      F  45790.18\n",
       "5      M  40940.36\n",
       "6      M  41761.21\n",
       "7      M  66451.94\n",
       "8      F  81696.68"
      ]
     },
     "execution_count": 63,
     "metadata": {},
     "output_type": "execute_result"
    }
   ],
   "source": [
    "#fillna method\n",
    "data.fillna(0)"
   ]
  }
 ],
 "metadata": {
  "kernelspec": {
   "display_name": "Python 3",
   "language": "python",
   "name": "python3"
  },
  "language_info": {
   "codemirror_mode": {
    "name": "ipython",
    "version": 3
   },
   "file_extension": ".py",
   "mimetype": "text/x-python",
   "name": "python",
   "nbconvert_exporter": "python",
   "pygments_lexer": "ipython3",
   "version": "3.11.9"
  }
 },
 "nbformat": 4,
 "nbformat_minor": 5
}
